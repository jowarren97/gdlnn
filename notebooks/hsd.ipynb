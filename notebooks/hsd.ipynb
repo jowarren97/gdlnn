{
 "cells": [
  {
   "cell_type": "code",
   "execution_count": 121,
   "metadata": {},
   "outputs": [],
   "source": [
    "import sys\n",
    "sys.path.append('../')\n",
    "import numpy as np\n",
    "\n",
    "def build_tree(n_levels, n_branches, probability,\n",
    "               to_np_array=True):\n",
    "  \"\"\"\n",
    "  Builds tree\n",
    "\n",
    "  Args:\n",
    "    n_levels: int\n",
    "      Number of levels in tree\n",
    "    n_branches: int\n",
    "      Number of branches in tree\n",
    "    probability: float\n",
    "      Flipping probability\n",
    "    to_np_array: boolean\n",
    "      If true, represent tree as np.ndarray\n",
    "\n",
    "  Returns:\n",
    "    tree: dict if to_np_array=False\n",
    "          np.ndarray otherwise\n",
    "      Tree\n",
    "  \"\"\"\n",
    "  assert 0.0 <= probability <= 1.0\n",
    "\n",
    "  tree = {}\n",
    "\n",
    "  tree[\"level\"] = [0]\n",
    "  for i in range(1, n_levels+1):\n",
    "    tree[\"level\"].extend([i]*(n_branches**i))\n",
    "\n",
    "  tree[\"pflip\"] = [probability]*len(tree[\"level\"])\n",
    "\n",
    "  tree[\"parent\"] = [None]\n",
    "  k = len(tree[\"level\"])-1\n",
    "  for j in range(k//n_branches):\n",
    "    tree[\"parent\"].extend([j]*n_branches)\n",
    "\n",
    "  if to_np_array:\n",
    "    tree[\"level\"] = np.array(tree[\"level\"])\n",
    "    tree[\"pflip\"] = np.array(tree[\"pflip\"])\n",
    "    tree[\"parent\"] = np.array(tree[\"parent\"])\n",
    "\n",
    "  return tree\n",
    "\n",
    "\n",
    "def sample_from_tree(tree, n):\n",
    "  \"\"\"\n",
    "  Generates n samples from a tree\n",
    "\n",
    "  Args:\n",
    "    tree: np.ndarray/dictionary\n",
    "      Tree\n",
    "    n: int\n",
    "      Number of levels in tree\n",
    "\n",
    "  Returns:\n",
    "    x: np.ndarray\n",
    "      Sample from tree\n",
    "  \"\"\"\n",
    "  items = [i for i, v in enumerate(tree[\"level\"]) if v == max(tree[\"level\"])]\n",
    "  n_items = len(items)\n",
    "  x = np.zeros(shape=(n, n_items))\n",
    "  rand_temp = np.random.rand(n, len(tree[\"pflip\"]))\n",
    "  flip_temp = np.repeat(tree[\"pflip\"].reshape(1, -1), n, 0)\n",
    "  samp = (rand_temp > flip_temp) * 2 - 1\n",
    "\n",
    "  for i in range(n_items):\n",
    "    j = items[i]\n",
    "    prop = samp[:, j]\n",
    "    while tree[\"parent\"][j] is not None:\n",
    "      j = tree[\"parent\"][j]\n",
    "      prop = prop * samp[:, j]\n",
    "    x[:, i] = prop.T\n",
    "  return x\n",
    "\n",
    "def generate_hsd():\n",
    "  \"\"\"\n",
    "  Building the tree\n",
    "\n",
    "  Args:\n",
    "    None\n",
    "\n",
    "  Returns:\n",
    "    tree_labels: np.ndarray\n",
    "      Tree Labels\n",
    "    tree_features: np.ndarray\n",
    "      Sample from tree\n",
    "  \"\"\"\n",
    "  n_branches = 2  # 2 branches at each node\n",
    "  probability = .15  # flipping probability\n",
    "  n_levels = 3  # number of levels (depth of tree)\n",
    "  tree = build_tree(n_levels, n_branches, probability, to_np_array=True)\n",
    "  tree[\"pflip\"][0] = 0.5\n",
    "  n_samples = 10000 # Sample this many features\n",
    "\n",
    "  tree_labels = np.eye(n_branches**n_levels)\n",
    "  tree_features = sample_from_tree(tree, n_samples).T\n",
    "  return tree_labels, tree_features\n",
    "\n"
   ]
  },
  {
   "cell_type": "code",
   "execution_count": 37,
   "metadata": {
    "pycharm": {
     "name": "#%%\n"
    }
   },
   "outputs": [
    {
     "name": "stdout",
     "output_type": "stream",
     "text": [
      "[[0. 0. 0. 0.]\n",
      " [0. 0. 0. 0.]\n",
      " [0. 0. 0. 0.]\n",
      " [0. 0. 0. 0.]\n",
      " [0. 0. 0. 0.]\n",
      " [0. 0. 0. 0.]\n",
      " [0. 0. 0. 0.]]\n",
      "[[1. 0.]\n",
      " [0. 1.]]\n"
     ]
    }
   ],
   "source": [
    "import numpy as np\n",
    "import math\n",
    "\n",
    "n_items = 4\n",
    "assert math.log(n_items, 2) % 1 == 0\n",
    "n_features = 2**(n_items - 1) - 1\n",
    "\n",
    "features = np.zeros((n_features, n_items))\n",
    "print(features)\n",
    "\n",
    "item_ids = [1, 2, 3, 4]\n",
    "\n",
    "print(np.eye(2))\n"
   ]
  },
  {
   "cell_type": "code",
   "execution_count": 40,
   "metadata": {},
   "outputs": [],
   "source": [
    "features = np.zeros((n_features, n_items))\n",
    "\n",
    "row = 0\n",
    "\n",
    "def hsd(n_items):\n",
    "    power = int(math.log(n_items, 2))\n",
    "    assert power % 1 == 0\n",
    "    n_features = 2**(power + 1) - 1\n",
    "\n",
    "    tree_features = np.zeros((n_features, n_items))    \n",
    "    row = 0\n",
    "    \n",
    "    freqs = np.logspace(0, power, power+1, base=2, dtype=np.int64)\n",
    "    \n",
    "    for freq in freqs:\n",
    "        span = int(n_items/freq)\n",
    "\n",
    "        for blocks in range(freq):\n",
    "            tree_features[row, blocks*span : (blocks+1)*span] = 1  \n",
    "            row += 1\n",
    "            \n",
    "    tree_labels = np.eye(n_items)\n",
    "            \n",
    "    return tree_labels, tree_features\n",
    "\n",
    "def hsd_context(n_items, n_contexts, symmetry=True):\n",
    "    tree_labels_all, tree_features_all = [], []\n",
    "    \n",
    "    for c in range(n_contexts):\n",
    "        tree_labels, tree_features = hsd(n_items)\n",
    "        tree_features_all.append(tree_features)\n",
    "        \n",
    "    tree_features_all = np.concatenate(tree_features_all, axis=0)\n",
    "    return tree_labels, tree_features_all"
   ]
  },
  {
   "cell_type": "code",
   "execution_count": 88,
   "metadata": {},
   "outputs": [
    {
     "data": {
      "image/png": "[encoded data removed]",
      "text/plain": [
       "<Figure size 640x480 with 1 Axes>"
      ]
     },
     "metadata": {},
     "output_type": "display_data"
    },
    {
     "data": {
      "image/png": "[encoded data removed]",
      "text/plain": [
       "<Figure size 640x480 with 1 Axes>"
      ]
     },
     "metadata": {},
     "output_type": "display_data"
    }
   ],
   "source": [
    "import plotting_functions as pf\n",
    "import matplotlib.pyplot as plt\n",
    "tree_labels, tree_features_all = hsd_context(4,3)\n",
    "plt.imshow(tree_features_all)\n",
    "plt.show()\n",
    "plt.imshow(tree_labels)\n",
    "plt.show()\n",
    "\n",
    "# Convert (cast) data from np.ndarray to torch.Tensor\n",
    "label_tensor = torch.tensor(tree_labels).float()\n",
    "feature_tensor = torch.tensor(tree_features_all).float()"
   ]
  },
  {
   "cell_type": "code",
   "execution_count": 103,
   "metadata": {},
   "outputs": [
    {
     "name": "stdout",
     "output_type": "stream",
     "text": [
      "The autoreload extension is already loaded. To reload it, use:\n",
      "  %reload_ext autoreload\n",
      "3\n"
     ]
    },
    {
     "data": {
      "text/plain": [
       "(tensor([ 0.0932,  0.0773, -0.1010, -0.0305,  0.0195,  0.0129,  0.0586, -0.0000,\n",
       "          0.0000, -0.0000, -0.0000, -0.0000, -0.0000,  0.0000, -0.0000,  0.0000,\n",
       "          0.0000,  0.0000,  0.0000,  0.0000, -0.0000], grad_fn=<MulBackward0>),\n",
       " [tensor([1., 0., 0., 0.]),\n",
       "  tensor([ 0.2080,  0.4908,  0.3239,  0.1367, -0.2176,  0.4186,  0.4838,  0.0561,\n",
       "           0.4337,  0.0878, -0.4707,  0.2496,  0.4295, -0.3048, -0.4267, -0.1167,\n",
       "          -0.3520,  0.1489,  0.3056, -0.0158, -0.1401,  0.1531, -0.3730, -0.0733,\n",
       "           0.2550, -0.1225,  0.3300, -0.0677, -0.3618,  0.3947],\n",
       "         grad_fn=<MulBackward0>),\n",
       "  tensor([ 0.0678,  0.0354, -0.1694,  0.1049,  0.2269,  0.2134, -0.1193, -0.0164,\n",
       "           0.0938,  0.0307, -0.0132, -0.4057,  0.0168, -0.2211, -0.1420,  0.0000,\n",
       "          -0.0000, -0.0000,  0.0000,  0.0000, -0.0000,  0.0000,  0.0000,  0.0000,\n",
       "           0.0000, -0.0000,  0.0000, -0.0000,  0.0000,  0.0000, -0.0000, -0.0000,\n",
       "          -0.0000, -0.0000, -0.0000, -0.0000, -0.0000, -0.0000, -0.0000,  0.0000,\n",
       "          -0.0000,  0.0000,  0.0000, -0.0000, -0.0000], grad_fn=<MulBackward0>),\n",
       "  tensor([ 0.0932,  0.0773, -0.1010, -0.0305,  0.0195,  0.0129,  0.0586, -0.0000,\n",
       "           0.0000, -0.0000, -0.0000, -0.0000, -0.0000,  0.0000, -0.0000,  0.0000,\n",
       "           0.0000,  0.0000,  0.0000,  0.0000, -0.0000], grad_fn=<MulBackward0>)],\n",
       " [tensor([1., 1., 1., 1.]),\n",
       "  tensor([1., 1., 1., 1., 1., 1., 1., 1., 1., 1., 1., 1., 1., 1., 1., 1., 1., 1.,\n",
       "          1., 1., 1., 1., 1., 1., 1., 1., 1., 1., 1., 1.]),\n",
       "  tensor([1., 1., 1., 1., 1., 1., 1., 1., 1., 1., 1., 1., 1., 1., 1., 0., 0., 0.,\n",
       "          0., 0., 0., 0., 0., 0., 0., 0., 0., 0., 0., 0., 0., 0., 0., 0., 0., 0.,\n",
       "          0., 0., 0., 0., 0., 0., 0., 0., 0.]),\n",
       "  tensor([1., 1., 1., 1., 1., 1., 1., 0., 0., 0., 0., 0., 0., 0., 0., 0., 0., 0.,\n",
       "          0., 0., 0.])])"
      ]
     },
     "execution_count": 103,
     "metadata": {},
     "output_type": "execute_result"
    }
   ],
   "source": [
    "%load_ext autoreload\n",
    "%autoreload 2\n",
    "\n",
    "import sys\n",
    "import torch\n",
    "sys.path.append('../')\n",
    "from GLNNet import GLNNet\n",
    "\n",
    "model = GLNNet(dims=(4,30,45,21), pathways=(1,1,3,3))\n",
    "print(len(model.layers))\n",
    "x = torch.Tensor([1,0,0,0])\n",
    "g = (None,None,0,0)\n",
    "model.forward(x, g)"
   ]
  },
  {
   "cell_type": "code",
   "execution_count": 104,
   "metadata": {},
   "outputs": [
    {
     "name": "stdout",
     "output_type": "stream",
     "text": [
      "tensor([1., 0., 0., 0.]) tensor([1., 1., 0., 1., 0., 0., 0., 1., 1., 0., 1., 0., 0., 0., 1., 1., 0., 1.,\n",
      "        0., 0., 0.])\n"
     ]
    }
   ],
   "source": [
    "item = 0\n",
    "x = label_tensor[:, item]\n",
    "y = feature_tensor[:, item]\n",
    "\n",
    "print(x, y)"
   ]
  },
  {
   "cell_type": "code",
   "execution_count": 106,
   "metadata": {},
   "outputs": [
    {
     "name": "stdout",
     "output_type": "stream",
     "text": [
      "(None, None, 0, 0)\n",
      "torch.Size([21]) torch.Size([21])\n",
      "tensor(359.5018, grad_fn=<MseLossBackward0>)\n"
     ]
    }
   ],
   "source": [
    "import torch.optim as optim\n",
    "from torch import nn\n",
    "n_epochs=1\n",
    "lr=100\n",
    "losses = np.zeros(n_epochs)  # Loss records\n",
    "optimizer = optim.SGD(model.parameters(), lr=lr)\n",
    "criterion = nn.MSELoss()\n",
    "\n",
    "optimizer.zero_grad()\n",
    "predictions, hiddens, _ = model(x, g)\n",
    "print(predictions.shape, y.shape)\n",
    "loss = criterion(predictions, y)\n",
    "loss.backward()\n",
    "optimizer.step()\n",
    "\n",
    "print(loss)"
   ]
  },
  {
   "cell_type": "code",
   "execution_count": 107,
   "metadata": {},
   "outputs": [
    {
     "data": {
      "image/png": "[encoded data removed]",
      "text/plain": [
       "<Figure size 640x480 with 1 Axes>"
      ]
     },
     "metadata": {},
     "output_type": "display_data"
    },
    {
     "data": {
      "image/png": "[encoded data removed]",
      "text/plain": [
       "<Figure size 640x480 with 1 Axes>"
      ]
     },
     "metadata": {},
     "output_type": "display_data"
    },
    {
     "data": {
      "image/png": "[encoded data removed]",
      "text/plain": [
       "<Figure size 640x480 with 1 Axes>"
      ]
     },
     "metadata": {},
     "output_type": "display_data"
    },
    {
     "data": {
      "text/plain": [
       "[None, None, None]"
      ]
     },
     "execution_count": 107,
     "metadata": {},
     "output_type": "execute_result"
    }
   ],
   "source": [
    "grads = [weight.grad for weight in model.parameters()]\n",
    "\n",
    "def plot_grad(grad):\n",
    "    plt.imshow(grad)\n",
    "    plt.show()\n",
    "    \n",
    "[plot_grad(grad) for grad in grads]"
   ]
  },
  {
   "cell_type": "code",
   "execution_count": null,
   "metadata": {},
   "outputs": [],
   "source": []
  }
 ],
 "metadata": {
  "kernelspec": {
   "display_name": "Python 3 (ipykernel)",
   "language": "python",
   "name": "python3"
  },
  "language_info": {
   "codemirror_mode": {
    "name": "ipython",
    "version": 3
   },
   "file_extension": ".py",
   "mimetype": "text/x-python",
   "name": "python",
   "nbconvert_exporter": "python",
   "pygments_lexer": "ipython3",
   "version": "3.9.7"
  }
 },
 "nbformat": 4,
 "nbformat_minor": 1
}
